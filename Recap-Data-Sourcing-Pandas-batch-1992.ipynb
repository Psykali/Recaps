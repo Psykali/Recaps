{
 "cells": [
  {
   "cell_type": "markdown",
   "metadata": {},
   "source": [
    "# CSV + API\n",
    "\n",
    "In this reboot, we are going to use:\n",
    "\n",
    "- The [Goodreads books](https://www.kaggle.com/jealousleopard/goodreadsbooks) dataset from Kaggle.\n",
    "- The [Open Library Books API](https://openlibrary.org/dev/docs/api/books)\n",
    "\n",
    "The goal of this livecode is to load the data from a CSV + loop over rows to enrich each row with information such as:\n",
    "\n",
    "- List of subjects (Science, Humor, Travel, etc.)\n",
    "- The cover URL of the book\n",
    "- Other information you'd find useful in the JSON API"
   ]
  },
  {
   "cell_type": "markdown",
   "metadata": {},
   "source": [
    "First, download the CSV in the local folder:"
   ]
  },
  {
   "cell_type": "code",
   "execution_count": 1,
   "metadata": {
    "execution": {
     "iopub.execute_input": "2025-04-22T15:04:59.812884Z",
     "iopub.status.busy": "2025-04-22T15:04:59.812187Z",
     "iopub.status.idle": "2025-04-22T15:05:00.207722Z",
     "shell.execute_reply": "2025-04-22T15:05:00.205984Z",
     "shell.execute_reply.started": "2025-04-22T15:04:59.812834Z"
    }
   },
   "outputs": [
    {
     "name": "stdout",
     "output_type": "stream",
     "text": [
      "  % Total    % Received % Xferd  Average Speed   Time    Time     Time  Current\n",
      "                                 Dload  Upload   Total   Spent    Left  Speed\n",
      "100 1509k  100 1509k    0     0  6260k      0 --:--:-- --:--:-- --:--:-- 6288k\n"
     ]
    }
   ],
   "source": [
    "!curl -L https://gist.githubusercontent.com/ssaunier/351b17f5a7a009808b60aeacd1f4a036/raw/books.csv > books.csv"
   ]
  },
  {
   "cell_type": "code",
   "execution_count": 2,
   "metadata": {
    "execution": {
     "iopub.execute_input": "2025-04-22T15:05:02.225453Z",
     "iopub.status.busy": "2025-04-22T15:05:02.223942Z",
     "iopub.status.idle": "2025-04-22T15:05:02.362312Z",
     "shell.execute_reply": "2025-04-22T15:05:02.360617Z",
     "shell.execute_reply.started": "2025-04-22T15:05:02.225356Z"
    }
   },
   "outputs": [
    {
     "name": "stdout",
     "output_type": "stream",
     "text": [
      "total 1.5M\n",
      "-rwxrwxrwx 1 thomas thomas 1.5M Apr 22 17:05 books.csv\n",
      "-rwxrwxrwx 1 thomas thomas 3.1K Apr 22 17:03 Recap-Data-Sourcing-Pandas-batch-1992.ipynb\n"
     ]
    }
   ],
   "source": [
    "!ls -lh"
   ]
  },
  {
   "cell_type": "markdown",
   "metadata": {},
   "source": [
    "Then import the usual suspects!"
   ]
  },
  {
   "cell_type": "code",
   "execution_count": 3,
   "metadata": {
    "execution": {
     "iopub.execute_input": "2025-04-22T15:05:05.857548Z",
     "iopub.status.busy": "2025-04-22T15:05:05.856188Z",
     "iopub.status.idle": "2025-04-22T15:05:07.052827Z",
     "shell.execute_reply": "2025-04-22T15:05:07.051810Z",
     "shell.execute_reply.started": "2025-04-22T15:05:05.857474Z"
    }
   },
   "outputs": [],
   "source": [
    "import requests\n",
    "import pandas as pd\n",
    "import numpy as np"
   ]
  },
  {
   "cell_type": "markdown",
   "metadata": {},
   "source": [
    "## Load books from CSV"
   ]
  },
  {
   "cell_type": "code",
   "execution_count": 4,
   "metadata": {
    "execution": {
     "iopub.execute_input": "2025-04-22T15:09:40.598124Z",
     "iopub.status.busy": "2025-04-22T15:09:40.596891Z",
     "iopub.status.idle": "2025-04-22T15:09:40.702861Z",
     "shell.execute_reply": "2025-04-22T15:09:40.701698Z",
     "shell.execute_reply.started": "2025-04-22T15:09:40.598070Z"
    },
    "tags": [
     "challengify"
    ]
   },
   "outputs": [
    {
     "data": {
      "text/html": [
       "<div>\n",
       "<style scoped>\n",
       "    .dataframe tbody tr th:only-of-type {\n",
       "        vertical-align: middle;\n",
       "    }\n",
       "\n",
       "    .dataframe tbody tr th {\n",
       "        vertical-align: top;\n",
       "    }\n",
       "\n",
       "    .dataframe thead th {\n",
       "        text-align: right;\n",
       "    }\n",
       "</style>\n",
       "<table border=\"1\" class=\"dataframe\">\n",
       "  <thead>\n",
       "    <tr style=\"text-align: right;\">\n",
       "      <th></th>\n",
       "      <th>bookID</th>\n",
       "      <th>title</th>\n",
       "      <th>authors</th>\n",
       "      <th>average_rating</th>\n",
       "      <th>isbn</th>\n",
       "      <th>isbn13</th>\n",
       "      <th>language_code</th>\n",
       "      <th># num_pages</th>\n",
       "      <th>ratings_count</th>\n",
       "      <th>text_reviews_count</th>\n",
       "    </tr>\n",
       "  </thead>\n",
       "  <tbody>\n",
       "    <tr>\n",
       "      <th>0</th>\n",
       "      <td>1</td>\n",
       "      <td>Harry Potter and the Half-Blood Prince (Harry ...</td>\n",
       "      <td>J.K. Rowling-Mary GrandPré</td>\n",
       "      <td>4.56</td>\n",
       "      <td>0439785960</td>\n",
       "      <td>9780439785969</td>\n",
       "      <td>eng</td>\n",
       "      <td>652</td>\n",
       "      <td>1944099</td>\n",
       "      <td>26249</td>\n",
       "    </tr>\n",
       "    <tr>\n",
       "      <th>1</th>\n",
       "      <td>2</td>\n",
       "      <td>Harry Potter and the Order of the Phoenix (Har...</td>\n",
       "      <td>J.K. Rowling-Mary GrandPré</td>\n",
       "      <td>4.49</td>\n",
       "      <td>0439358078</td>\n",
       "      <td>9780439358071</td>\n",
       "      <td>eng</td>\n",
       "      <td>870</td>\n",
       "      <td>1996446</td>\n",
       "      <td>27613</td>\n",
       "    </tr>\n",
       "    <tr>\n",
       "      <th>2</th>\n",
       "      <td>3</td>\n",
       "      <td>Harry Potter and the Sorcerer's Stone (Harry P...</td>\n",
       "      <td>J.K. Rowling-Mary GrandPré</td>\n",
       "      <td>4.47</td>\n",
       "      <td>0439554934</td>\n",
       "      <td>9780439554930</td>\n",
       "      <td>eng</td>\n",
       "      <td>320</td>\n",
       "      <td>5629932</td>\n",
       "      <td>70390</td>\n",
       "    </tr>\n",
       "    <tr>\n",
       "      <th>3</th>\n",
       "      <td>4</td>\n",
       "      <td>Harry Potter and the Chamber of Secrets (Harry...</td>\n",
       "      <td>J.K. Rowling</td>\n",
       "      <td>4.41</td>\n",
       "      <td>0439554896</td>\n",
       "      <td>9780439554893</td>\n",
       "      <td>eng</td>\n",
       "      <td>352</td>\n",
       "      <td>6267</td>\n",
       "      <td>272</td>\n",
       "    </tr>\n",
       "    <tr>\n",
       "      <th>4</th>\n",
       "      <td>5</td>\n",
       "      <td>Harry Potter and the Prisoner of Azkaban (Harr...</td>\n",
       "      <td>J.K. Rowling-Mary GrandPré</td>\n",
       "      <td>4.55</td>\n",
       "      <td>043965548X</td>\n",
       "      <td>9780439655484</td>\n",
       "      <td>eng</td>\n",
       "      <td>435</td>\n",
       "      <td>2149872</td>\n",
       "      <td>33964</td>\n",
       "    </tr>\n",
       "  </tbody>\n",
       "</table>\n",
       "</div>"
      ],
      "text/plain": [
       "   bookID                                              title  \\\n",
       "0       1  Harry Potter and the Half-Blood Prince (Harry ...   \n",
       "1       2  Harry Potter and the Order of the Phoenix (Har...   \n",
       "2       3  Harry Potter and the Sorcerer's Stone (Harry P...   \n",
       "3       4  Harry Potter and the Chamber of Secrets (Harry...   \n",
       "4       5  Harry Potter and the Prisoner of Azkaban (Harr...   \n",
       "\n",
       "                      authors  average_rating        isbn         isbn13  \\\n",
       "0  J.K. Rowling-Mary GrandPré            4.56  0439785960  9780439785969   \n",
       "1  J.K. Rowling-Mary GrandPré            4.49  0439358078  9780439358071   \n",
       "2  J.K. Rowling-Mary GrandPré            4.47  0439554934  9780439554930   \n",
       "3                J.K. Rowling            4.41  0439554896  9780439554893   \n",
       "4  J.K. Rowling-Mary GrandPré            4.55  043965548X  9780439655484   \n",
       "\n",
       "  language_code  # num_pages  ratings_count  text_reviews_count  \n",
       "0           eng          652        1944099               26249  \n",
       "1           eng          870        1996446               27613  \n",
       "2           eng          320        5629932               70390  \n",
       "3           eng          352           6267                 272  \n",
       "4           eng          435        2149872               33964  "
      ]
     },
     "execution_count": 4,
     "metadata": {},
     "output_type": "execute_result"
    }
   ],
   "source": [
    "# YOUR CODE HERE\n",
    "df = pd.read_csv('books.csv')\n",
    "df.head(5)"
   ]
  },
  {
   "cell_type": "markdown",
   "metadata": {},
   "source": [
    "Let's add a new column"
   ]
  },
  {
   "cell_type": "code",
   "execution_count": 5,
   "metadata": {
    "execution": {
     "iopub.execute_input": "2025-04-22T15:10:54.361191Z",
     "iopub.status.busy": "2025-04-22T15:10:54.360252Z",
     "iopub.status.idle": "2025-04-22T15:10:54.386640Z",
     "shell.execute_reply": "2025-04-22T15:10:54.384953Z",
     "shell.execute_reply.started": "2025-04-22T15:10:54.361113Z"
    },
    "tags": [
     "challengify"
    ]
   },
   "outputs": [
    {
     "data": {
      "text/html": [
       "<div>\n",
       "<style scoped>\n",
       "    .dataframe tbody tr th:only-of-type {\n",
       "        vertical-align: middle;\n",
       "    }\n",
       "\n",
       "    .dataframe tbody tr th {\n",
       "        vertical-align: top;\n",
       "    }\n",
       "\n",
       "    .dataframe thead th {\n",
       "        text-align: right;\n",
       "    }\n",
       "</style>\n",
       "<table border=\"1\" class=\"dataframe\">\n",
       "  <thead>\n",
       "    <tr style=\"text-align: right;\">\n",
       "      <th></th>\n",
       "      <th>bookID</th>\n",
       "      <th>title</th>\n",
       "      <th>authors</th>\n",
       "      <th>average_rating</th>\n",
       "      <th>isbn</th>\n",
       "      <th>isbn13</th>\n",
       "      <th>language_code</th>\n",
       "      <th># num_pages</th>\n",
       "      <th>ratings_count</th>\n",
       "      <th>text_reviews_count</th>\n",
       "      <th>thumbnail</th>\n",
       "    </tr>\n",
       "  </thead>\n",
       "  <tbody>\n",
       "    <tr>\n",
       "      <th>0</th>\n",
       "      <td>1</td>\n",
       "      <td>Harry Potter and the Half-Blood Prince (Harry ...</td>\n",
       "      <td>J.K. Rowling-Mary GrandPré</td>\n",
       "      <td>4.56</td>\n",
       "      <td>0439785960</td>\n",
       "      <td>9780439785969</td>\n",
       "      <td>eng</td>\n",
       "      <td>652</td>\n",
       "      <td>1944099</td>\n",
       "      <td>26249</td>\n",
       "      <td></td>\n",
       "    </tr>\n",
       "    <tr>\n",
       "      <th>1</th>\n",
       "      <td>2</td>\n",
       "      <td>Harry Potter and the Order of the Phoenix (Har...</td>\n",
       "      <td>J.K. Rowling-Mary GrandPré</td>\n",
       "      <td>4.49</td>\n",
       "      <td>0439358078</td>\n",
       "      <td>9780439358071</td>\n",
       "      <td>eng</td>\n",
       "      <td>870</td>\n",
       "      <td>1996446</td>\n",
       "      <td>27613</td>\n",
       "      <td></td>\n",
       "    </tr>\n",
       "    <tr>\n",
       "      <th>2</th>\n",
       "      <td>3</td>\n",
       "      <td>Harry Potter and the Sorcerer's Stone (Harry P...</td>\n",
       "      <td>J.K. Rowling-Mary GrandPré</td>\n",
       "      <td>4.47</td>\n",
       "      <td>0439554934</td>\n",
       "      <td>9780439554930</td>\n",
       "      <td>eng</td>\n",
       "      <td>320</td>\n",
       "      <td>5629932</td>\n",
       "      <td>70390</td>\n",
       "      <td></td>\n",
       "    </tr>\n",
       "  </tbody>\n",
       "</table>\n",
       "</div>"
      ],
      "text/plain": [
       "   bookID                                              title  \\\n",
       "0       1  Harry Potter and the Half-Blood Prince (Harry ...   \n",
       "1       2  Harry Potter and the Order of the Phoenix (Har...   \n",
       "2       3  Harry Potter and the Sorcerer's Stone (Harry P...   \n",
       "\n",
       "                      authors  average_rating        isbn         isbn13  \\\n",
       "0  J.K. Rowling-Mary GrandPré            4.56  0439785960  9780439785969   \n",
       "1  J.K. Rowling-Mary GrandPré            4.49  0439358078  9780439358071   \n",
       "2  J.K. Rowling-Mary GrandPré            4.47  0439554934  9780439554930   \n",
       "\n",
       "  language_code  # num_pages  ratings_count  text_reviews_count thumbnail  \n",
       "0           eng          652        1944099               26249            \n",
       "1           eng          870        1996446               27613            \n",
       "2           eng          320        5629932               70390            "
      ]
     },
     "execution_count": 5,
     "metadata": {},
     "output_type": "execute_result"
    }
   ],
   "source": [
    "# YOUR CODE HERE\n",
    "df.loc[:, 'thumbnail'] = ''\n",
    "df.head(3)"
   ]
  },
  {
   "cell_type": "markdown",
   "metadata": {},
   "source": [
    "## API - Open Library"
   ]
  },
  {
   "cell_type": "code",
   "execution_count": 23,
   "metadata": {
    "execution": {
     "iopub.execute_input": "2025-04-22T15:27:25.207438Z",
     "iopub.status.busy": "2025-04-22T15:27:25.206960Z",
     "iopub.status.idle": "2025-04-22T15:27:26.081402Z",
     "shell.execute_reply": "2025-04-22T15:27:26.079934Z",
     "shell.execute_reply.started": "2025-04-22T15:27:25.207406Z"
    },
    "tags": [
     "challengify"
    ]
   },
   "outputs": [
    {
     "name": "stdout",
     "output_type": "stream",
     "text": [
      "Pulling URL: https://openlibrary.org/api/books?bibkeys=ISBN%3A0451526538&format=json\n"
     ]
    },
    {
     "data": {
      "text/plain": [
       "'https://covers.openlibrary.org/b/id/11403183-S.jpg'"
      ]
     },
     "execution_count": 23,
     "metadata": {},
     "output_type": "execute_result"
    }
   ],
   "source": [
    "# YOUR CODE HERE\n",
    "def get_info(isbn):\n",
    "    response = requests.get(\"https://openlibrary.org/api/books\", params={\n",
    "        'bibkeys': f'ISBN:{isbn}',\n",
    "        'format': 'json'\n",
    "    })\n",
    "    \n",
    "    print(f'Pulling URL: {response.url}')\n",
    "    data = response.json()\n",
    "\n",
    "    if not data:\n",
    "        return 'NOT FOUND'\n",
    "    \n",
    "    return data.get(f'ISBN:{isbn}', {}).get('thumbnail_url', '')\n",
    "\n",
    "get_info('0451526538')"
   ]
  },
  {
   "cell_type": "code",
   "execution_count": 29,
   "metadata": {
    "execution": {
     "iopub.execute_input": "2025-04-22T15:34:00.766225Z",
     "iopub.status.busy": "2025-04-22T15:34:00.765718Z",
     "iopub.status.idle": "2025-04-22T15:34:00.799256Z",
     "shell.execute_reply": "2025-04-22T15:34:00.797704Z",
     "shell.execute_reply.started": "2025-04-22T15:34:00.766192Z"
    }
   },
   "outputs": [
    {
     "name": "stdout",
     "output_type": "stream",
     "text": [
      "0. Skipping. Exists\n",
      "1. Skipping. Exists\n",
      "2. Skipping. Exists\n",
      "3. Skipping. Exists\n",
      "4. Skipping. Exists\n",
      "5. Skipping. Exists\n",
      "6. Skipping. Exists\n",
      "7. Skipping. Exists\n",
      "8. Skipping. Exists\n",
      "9. Skipping. Exists\n",
      "10. Skipping. Exists\n",
      "11. Skipping. Exists\n",
      "12. Skipping. Exists\n",
      "13. Skipping. Exists\n",
      "14. Skipping. Exists\n"
     ]
    },
    {
     "data": {
      "text/html": [
       "<div>\n",
       "<style scoped>\n",
       "    .dataframe tbody tr th:only-of-type {\n",
       "        vertical-align: middle;\n",
       "    }\n",
       "\n",
       "    .dataframe tbody tr th {\n",
       "        vertical-align: top;\n",
       "    }\n",
       "\n",
       "    .dataframe thead th {\n",
       "        text-align: right;\n",
       "    }\n",
       "</style>\n",
       "<table border=\"1\" class=\"dataframe\">\n",
       "  <thead>\n",
       "    <tr style=\"text-align: right;\">\n",
       "      <th></th>\n",
       "      <th>bookID</th>\n",
       "      <th>title</th>\n",
       "      <th>authors</th>\n",
       "      <th>average_rating</th>\n",
       "      <th>isbn</th>\n",
       "      <th>isbn13</th>\n",
       "      <th>language_code</th>\n",
       "      <th># num_pages</th>\n",
       "      <th>ratings_count</th>\n",
       "      <th>text_reviews_count</th>\n",
       "      <th>thumbnail</th>\n",
       "    </tr>\n",
       "  </thead>\n",
       "  <tbody>\n",
       "    <tr>\n",
       "      <th>0</th>\n",
       "      <td>1</td>\n",
       "      <td>Harry Potter and the Half-Blood Prince (Harry ...</td>\n",
       "      <td>J.K. Rowling-Mary GrandPré</td>\n",
       "      <td>4.56</td>\n",
       "      <td>0439785960</td>\n",
       "      <td>9780439785969</td>\n",
       "      <td>eng</td>\n",
       "      <td>652</td>\n",
       "      <td>1944099</td>\n",
       "      <td>26249</td>\n",
       "      <td>https://covers.openlibrary.org/b/id/14860369-S...</td>\n",
       "    </tr>\n",
       "    <tr>\n",
       "      <th>1</th>\n",
       "      <td>2</td>\n",
       "      <td>Harry Potter and the Order of the Phoenix (Har...</td>\n",
       "      <td>J.K. Rowling-Mary GrandPré</td>\n",
       "      <td>4.49</td>\n",
       "      <td>0439358078</td>\n",
       "      <td>9780439358071</td>\n",
       "      <td>eng</td>\n",
       "      <td>870</td>\n",
       "      <td>1996446</td>\n",
       "      <td>27613</td>\n",
       "      <td>https://covers.openlibrary.org/b/id/14656833-S...</td>\n",
       "    </tr>\n",
       "    <tr>\n",
       "      <th>2</th>\n",
       "      <td>3</td>\n",
       "      <td>Harry Potter and the Sorcerer's Stone (Harry P...</td>\n",
       "      <td>J.K. Rowling-Mary GrandPré</td>\n",
       "      <td>4.47</td>\n",
       "      <td>0439554934</td>\n",
       "      <td>9780439554930</td>\n",
       "      <td>eng</td>\n",
       "      <td>320</td>\n",
       "      <td>5629932</td>\n",
       "      <td>70390</td>\n",
       "      <td>https://covers.openlibrary.org/b/id/7572543-S.jpg</td>\n",
       "    </tr>\n",
       "    <tr>\n",
       "      <th>3</th>\n",
       "      <td>4</td>\n",
       "      <td>Harry Potter and the Chamber of Secrets (Harry...</td>\n",
       "      <td>J.K. Rowling</td>\n",
       "      <td>4.41</td>\n",
       "      <td>0439554896</td>\n",
       "      <td>9780439554893</td>\n",
       "      <td>eng</td>\n",
       "      <td>352</td>\n",
       "      <td>6267</td>\n",
       "      <td>272</td>\n",
       "      <td>https://covers.openlibrary.org/b/id/10301720-S...</td>\n",
       "    </tr>\n",
       "    <tr>\n",
       "      <th>4</th>\n",
       "      <td>5</td>\n",
       "      <td>Harry Potter and the Prisoner of Azkaban (Harr...</td>\n",
       "      <td>J.K. Rowling-Mary GrandPré</td>\n",
       "      <td>4.55</td>\n",
       "      <td>043965548X</td>\n",
       "      <td>9780439655484</td>\n",
       "      <td>eng</td>\n",
       "      <td>435</td>\n",
       "      <td>2149872</td>\n",
       "      <td>33964</td>\n",
       "      <td>https://covers.openlibrary.org/b/id/8778528-S.jpg</td>\n",
       "    </tr>\n",
       "  </tbody>\n",
       "</table>\n",
       "</div>"
      ],
      "text/plain": [
       "   bookID                                              title  \\\n",
       "0       1  Harry Potter and the Half-Blood Prince (Harry ...   \n",
       "1       2  Harry Potter and the Order of the Phoenix (Har...   \n",
       "2       3  Harry Potter and the Sorcerer's Stone (Harry P...   \n",
       "3       4  Harry Potter and the Chamber of Secrets (Harry...   \n",
       "4       5  Harry Potter and the Prisoner of Azkaban (Harr...   \n",
       "\n",
       "                      authors  average_rating        isbn         isbn13  \\\n",
       "0  J.K. Rowling-Mary GrandPré            4.56  0439785960  9780439785969   \n",
       "1  J.K. Rowling-Mary GrandPré            4.49  0439358078  9780439358071   \n",
       "2  J.K. Rowling-Mary GrandPré            4.47  0439554934  9780439554930   \n",
       "3                J.K. Rowling            4.41  0439554896  9780439554893   \n",
       "4  J.K. Rowling-Mary GrandPré            4.55  043965548X  9780439655484   \n",
       "\n",
       "  language_code  # num_pages  ratings_count  text_reviews_count  \\\n",
       "0           eng          652        1944099               26249   \n",
       "1           eng          870        1996446               27613   \n",
       "2           eng          320        5629932               70390   \n",
       "3           eng          352           6267                 272   \n",
       "4           eng          435        2149872               33964   \n",
       "\n",
       "                                           thumbnail  \n",
       "0  https://covers.openlibrary.org/b/id/14860369-S...  \n",
       "1  https://covers.openlibrary.org/b/id/14656833-S...  \n",
       "2  https://covers.openlibrary.org/b/id/7572543-S.jpg  \n",
       "3  https://covers.openlibrary.org/b/id/10301720-S...  \n",
       "4  https://covers.openlibrary.org/b/id/8778528-S.jpg  "
      ]
     },
     "execution_count": 29,
     "metadata": {},
     "output_type": "execute_result"
    }
   ],
   "source": [
    "for index, row in df.head(15).iterrows():\n",
    "\n",
    "    if row['thumbnail'] != '':\n",
    "        print(f\"{index}. Skipping. Exists\")\n",
    "        continue\n",
    "        \n",
    "    df.loc[index, 'thumbnail'] = get_info(row['isbn'])\n",
    "df.head()"
   ]
  },
  {
   "cell_type": "markdown",
   "metadata": {},
   "source": [
    "## Calling the API with multiple ISBNs at a time"
   ]
  },
  {
   "cell_type": "code",
   "execution_count": 35,
   "metadata": {
    "execution": {
     "iopub.execute_input": "2025-04-22T15:42:43.127919Z",
     "iopub.status.busy": "2025-04-22T15:42:43.127268Z",
     "iopub.status.idle": "2025-04-22T15:42:43.135392Z",
     "shell.execute_reply": "2025-04-22T15:42:43.134177Z",
     "shell.execute_reply.started": "2025-04-22T15:42:43.127867Z"
    }
   },
   "outputs": [
    {
     "data": {
      "text/plain": [
       "'ISBN:A,ISBN:B,ISBN:C'"
      ]
     },
     "execution_count": 35,
     "metadata": {},
     "output_type": "execute_result"
    }
   ],
   "source": [
    "\",\".join( f'ISBN:{isbn}' for isbn in ['A','B','C'])"
   ]
  },
  {
   "cell_type": "code",
   "execution_count": 52,
   "metadata": {
    "execution": {
     "iopub.execute_input": "2025-04-22T15:59:22.860777Z",
     "iopub.status.busy": "2025-04-22T15:59:22.860284Z",
     "iopub.status.idle": "2025-04-22T15:59:23.524089Z",
     "shell.execute_reply": "2025-04-22T15:59:23.522955Z",
     "shell.execute_reply.started": "2025-04-22T15:59:22.860737Z"
    },
    "tags": [
     "challengify"
    ]
   },
   "outputs": [
    {
     "name": "stdout",
     "output_type": "stream",
     "text": [
      "Pulling URL: https://openlibrary.org/api/books?bibkeys=ISBN%3A0451526538%2CISBN%3A0439785960&format=json\n"
     ]
    },
    {
     "data": {
      "text/plain": [
       "{'0451526538': 'https://covers.openlibrary.org/b/id/11403183-S.jpg',\n",
       " '0439785960': 'https://covers.openlibrary.org/b/id/14860369-S.jpg'}"
      ]
     },
     "execution_count": 52,
     "metadata": {},
     "output_type": "execute_result"
    }
   ],
   "source": [
    "def get_info_multiple(isbn_list: list):\n",
    "\n",
    "    bibkeys = \",\".join([f'ISBN:{isbn}' for isbn in isbn_list])\n",
    "    response = requests.get(\"https://openlibrary.org/api/books\", params={\n",
    "        'bibkeys': bibkeys,\n",
    "        'format': 'json'\n",
    "    })\n",
    "    \n",
    "    print(f'Pulling URL: {response.url}')\n",
    "    data = response.json()\n",
    "\n",
    "    if not data:\n",
    "        return 'NOT FOUND'\n",
    "    \n",
    "    out = {}\n",
    "    for i, row in data.items():\n",
    "        out[i.replace(\"ISBN:\", \"\")] = row.get('thumbnail_url', 'not found')\n",
    "    return out\n",
    "\n",
    "get_info_multiple(['0451526538', '0439785960'])"
   ]
  },
  {
   "cell_type": "code",
   "execution_count": 42,
   "metadata": {
    "execution": {
     "iopub.execute_input": "2025-04-22T15:54:37.910580Z",
     "iopub.status.busy": "2025-04-22T15:54:37.909843Z",
     "iopub.status.idle": "2025-04-22T15:54:37.920003Z",
     "shell.execute_reply": "2025-04-22T15:54:37.917008Z",
     "shell.execute_reply.started": "2025-04-22T15:54:37.910522Z"
    }
   },
   "outputs": [],
   "source": [
    "df = df.head(100)"
   ]
  },
  {
   "cell_type": "code",
   "execution_count": 45,
   "metadata": {
    "execution": {
     "iopub.execute_input": "2025-04-22T15:56:26.207557Z",
     "iopub.status.busy": "2025-04-22T15:56:26.206550Z",
     "iopub.status.idle": "2025-04-22T15:56:26.225833Z",
     "shell.execute_reply": "2025-04-22T15:56:26.224386Z",
     "shell.execute_reply.started": "2025-04-22T15:56:26.207521Z"
    }
   },
   "outputs": [
    {
     "data": {
      "text/html": [
       "<div>\n",
       "<style scoped>\n",
       "    .dataframe tbody tr th:only-of-type {\n",
       "        vertical-align: middle;\n",
       "    }\n",
       "\n",
       "    .dataframe tbody tr th {\n",
       "        vertical-align: top;\n",
       "    }\n",
       "\n",
       "    .dataframe thead th {\n",
       "        text-align: right;\n",
       "    }\n",
       "</style>\n",
       "<table border=\"1\" class=\"dataframe\">\n",
       "  <thead>\n",
       "    <tr style=\"text-align: right;\">\n",
       "      <th></th>\n",
       "      <th>bookID</th>\n",
       "      <th>title</th>\n",
       "      <th>authors</th>\n",
       "      <th>average_rating</th>\n",
       "      <th>isbn13</th>\n",
       "      <th>language_code</th>\n",
       "      <th># num_pages</th>\n",
       "      <th>ratings_count</th>\n",
       "      <th>text_reviews_count</th>\n",
       "      <th>thumbnail</th>\n",
       "    </tr>\n",
       "    <tr>\n",
       "      <th>isbn</th>\n",
       "      <th></th>\n",
       "      <th></th>\n",
       "      <th></th>\n",
       "      <th></th>\n",
       "      <th></th>\n",
       "      <th></th>\n",
       "      <th></th>\n",
       "      <th></th>\n",
       "      <th></th>\n",
       "      <th></th>\n",
       "    </tr>\n",
       "  </thead>\n",
       "  <tbody>\n",
       "    <tr>\n",
       "      <th>0439785960</th>\n",
       "      <td>1</td>\n",
       "      <td>Harry Potter and the Half-Blood Prince (Harry ...</td>\n",
       "      <td>J.K. Rowling-Mary GrandPré</td>\n",
       "      <td>4.56</td>\n",
       "      <td>9780439785969</td>\n",
       "      <td>eng</td>\n",
       "      <td>652</td>\n",
       "      <td>1944099</td>\n",
       "      <td>26249</td>\n",
       "      <td>https://covers.openlibrary.org/b/id/14860369-S...</td>\n",
       "    </tr>\n",
       "    <tr>\n",
       "      <th>0439358078</th>\n",
       "      <td>2</td>\n",
       "      <td>Harry Potter and the Order of the Phoenix (Har...</td>\n",
       "      <td>J.K. Rowling-Mary GrandPré</td>\n",
       "      <td>4.49</td>\n",
       "      <td>9780439358071</td>\n",
       "      <td>eng</td>\n",
       "      <td>870</td>\n",
       "      <td>1996446</td>\n",
       "      <td>27613</td>\n",
       "      <td>https://covers.openlibrary.org/b/id/14656833-S...</td>\n",
       "    </tr>\n",
       "    <tr>\n",
       "      <th>0439554934</th>\n",
       "      <td>3</td>\n",
       "      <td>Harry Potter and the Sorcerer's Stone (Harry P...</td>\n",
       "      <td>J.K. Rowling-Mary GrandPré</td>\n",
       "      <td>4.47</td>\n",
       "      <td>9780439554930</td>\n",
       "      <td>eng</td>\n",
       "      <td>320</td>\n",
       "      <td>5629932</td>\n",
       "      <td>70390</td>\n",
       "      <td>https://covers.openlibrary.org/b/id/7572543-S.jpg</td>\n",
       "    </tr>\n",
       "    <tr>\n",
       "      <th>0439554896</th>\n",
       "      <td>4</td>\n",
       "      <td>Harry Potter and the Chamber of Secrets (Harry...</td>\n",
       "      <td>J.K. Rowling</td>\n",
       "      <td>4.41</td>\n",
       "      <td>9780439554893</td>\n",
       "      <td>eng</td>\n",
       "      <td>352</td>\n",
       "      <td>6267</td>\n",
       "      <td>272</td>\n",
       "      <td>https://covers.openlibrary.org/b/id/10301720-S...</td>\n",
       "    </tr>\n",
       "    <tr>\n",
       "      <th>043965548X</th>\n",
       "      <td>5</td>\n",
       "      <td>Harry Potter and the Prisoner of Azkaban (Harr...</td>\n",
       "      <td>J.K. Rowling-Mary GrandPré</td>\n",
       "      <td>4.55</td>\n",
       "      <td>9780439655484</td>\n",
       "      <td>eng</td>\n",
       "      <td>435</td>\n",
       "      <td>2149872</td>\n",
       "      <td>33964</td>\n",
       "      <td>https://covers.openlibrary.org/b/id/8778528-S.jpg</td>\n",
       "    </tr>\n",
       "  </tbody>\n",
       "</table>\n",
       "</div>"
      ],
      "text/plain": [
       "            bookID                                              title  \\\n",
       "isbn                                                                    \n",
       "0439785960       1  Harry Potter and the Half-Blood Prince (Harry ...   \n",
       "0439358078       2  Harry Potter and the Order of the Phoenix (Har...   \n",
       "0439554934       3  Harry Potter and the Sorcerer's Stone (Harry P...   \n",
       "0439554896       4  Harry Potter and the Chamber of Secrets (Harry...   \n",
       "043965548X       5  Harry Potter and the Prisoner of Azkaban (Harr...   \n",
       "\n",
       "                               authors  average_rating         isbn13  \\\n",
       "isbn                                                                    \n",
       "0439785960  J.K. Rowling-Mary GrandPré            4.56  9780439785969   \n",
       "0439358078  J.K. Rowling-Mary GrandPré            4.49  9780439358071   \n",
       "0439554934  J.K. Rowling-Mary GrandPré            4.47  9780439554930   \n",
       "0439554896                J.K. Rowling            4.41  9780439554893   \n",
       "043965548X  J.K. Rowling-Mary GrandPré            4.55  9780439655484   \n",
       "\n",
       "           language_code  # num_pages  ratings_count  text_reviews_count  \\\n",
       "isbn                                                                       \n",
       "0439785960           eng          652        1944099               26249   \n",
       "0439358078           eng          870        1996446               27613   \n",
       "0439554934           eng          320        5629932               70390   \n",
       "0439554896           eng          352           6267                 272   \n",
       "043965548X           eng          435        2149872               33964   \n",
       "\n",
       "                                                    thumbnail  \n",
       "isbn                                                           \n",
       "0439785960  https://covers.openlibrary.org/b/id/14860369-S...  \n",
       "0439358078  https://covers.openlibrary.org/b/id/14656833-S...  \n",
       "0439554934  https://covers.openlibrary.org/b/id/7572543-S.jpg  \n",
       "0439554896  https://covers.openlibrary.org/b/id/10301720-S...  \n",
       "043965548X  https://covers.openlibrary.org/b/id/8778528-S.jpg  "
      ]
     },
     "execution_count": 45,
     "metadata": {},
     "output_type": "execute_result"
    }
   ],
   "source": [
    "df.set_index('isbn', inplace=True)\n",
    "df.head()"
   ]
  },
  {
   "cell_type": "code",
   "execution_count": 54,
   "metadata": {
    "execution": {
     "iopub.execute_input": "2025-04-22T16:00:52.951554Z",
     "iopub.status.busy": "2025-04-22T16:00:52.950912Z",
     "iopub.status.idle": "2025-04-22T16:01:00.780666Z",
     "shell.execute_reply": "2025-04-22T16:01:00.778978Z",
     "shell.execute_reply.started": "2025-04-22T16:00:52.951501Z"
    }
   },
   "outputs": [
    {
     "name": "stdout",
     "output_type": "stream",
     "text": [
      "Pulling URL: https://openlibrary.org/api/books?bibkeys=ISBN%3A0439785960%2CISBN%3A0439358078%2CISBN%3A0439554934%2CISBN%3A0439554896%2CISBN%3A043965548X%2CISBN%3A0439682584%2CISBN%3A0976540606%2CISBN%3A0439827604%2CISBN%3A0517226952%2CISBN%3A0345453743%2CISBN%3A1400052920%2CISBN%3A0739322206%2CISBN%3A0517149257%2CISBN%3A076790818X%2CISBN%3A0767915062%2CISBN%3A0767910435%2CISBN%3A0767903862%2CISBN%3A076790382X%2CISBN%3A0060920084%2CISBN%3A0380713802&format=json\n",
      "Pulling URL: https://openlibrary.org/api/books?bibkeys=ISBN%3A0380727501%2CISBN%3A0380715430%2CISBN%3A0345538374%2CISBN%3A0618517650%2CISBN%3A0618346244%2CISBN%3A0618346252%2CISBN%3A0618260587%2CISBN%3A0618391002%2CISBN%3A0618510826%2CISBN%3A0618153977%2CISBN%3A193337201X%2CISBN%3A097669400X%2CISBN%3A0689840926%2CISBN%3A1557344493%2CISBN%3A0385326505%2CISBN%3A1575606240%2CISBN%3A1595580271%2CISBN%3A1595962808%2CISBN%3A0670059676%2CISBN%3A0141312629&format=json\n",
      "Pulling URL: https://openlibrary.org/api/books?bibkeys=ISBN%3A0595321801%2CISBN%3A1590301943%2CISBN%3A0449146979%2CISBN%3A0061159174%2CISBN%3A006076273X%2CISBN%3A0060749911%2CISBN%3A0273704745%2CISBN%3A1932386106%2CISBN%3A096513671X%2CISBN%3A0374517193%2CISBN%3A0374280398%2CISBN%3A0374519749%2CISBN%3A0374522596%2CISBN%3A0374518734%2CISBN%3A0374522871%2CISBN%3A0374519323%2CISBN%3A0374516006%2CISBN%3A0374520658%2CISBN%3A0822205106%2CISBN%3A0679734996&format=json\n",
      "Pulling URL: https://openlibrary.org/api/books?bibkeys=ISBN%3A1596670231%2CISBN%3A1581807740%2CISBN%3A0800793617%2CISBN%3A0871202867%2CISBN%3A0753454947%2CISBN%3A0871209993%2CISBN%3A1852402873%2CISBN%3A0761129588%2CISBN%3A0972016414%2CISBN%3A1581805632%2CISBN%3A0441294677%2CISBN%3A0441102670%2CISBN%3A0441172695%2CISBN%3A0765306476%2CISBN%3A0399128980%2CISBN%3A0765353709%2CISBN%3A0441104029%2CISBN%3A0441328008%2CISBN%3A034541005X%2CISBN%3A0385732546&format=json\n",
      "Pulling URL: https://openlibrary.org/api/books?bibkeys=ISBN%3A0785260056%2CISBN%3A0471780936%2CISBN%3A0325001537%2CISBN%3A006076287X%2CISBN%3A0470045299%2CISBN%3A0072262788%2CISBN%3A0764569244%2CISBN%3A0471933821%2CISBN%3A0764559915%2CISBN%3A0764584383%2CISBN%3A0596523696%2CISBN%3A0806523492%2CISBN%3A0806525363%2CISBN%3A0596527314%2CISBN%3A0143035002%2CISBN%3A0451528611%2CISBN%3A0140449175%2CISBN%3A0822001837%2CISBN%3A1593080271%2CISBN%3A0486437965&format=json\n"
     ]
    }
   ],
   "source": [
    "for group in np.array_split(df, 5): #5 x 20 rows\n",
    "    isbn_list = group.index\n",
    "    infos = get_info_multiple(isbn_list)\n",
    "    for isbn, thumbnail in infos.items():\n",
    "        df.loc[isbn, 'thumbnail'] = thumbnail"
   ]
  },
  {
   "cell_type": "code",
   "execution_count": 55,
   "metadata": {
    "execution": {
     "iopub.execute_input": "2025-04-22T16:01:03.555561Z",
     "iopub.status.busy": "2025-04-22T16:01:03.554527Z",
     "iopub.status.idle": "2025-04-22T16:01:03.583869Z",
     "shell.execute_reply": "2025-04-22T16:01:03.582828Z",
     "shell.execute_reply.started": "2025-04-22T16:01:03.555511Z"
    }
   },
   "outputs": [
    {
     "data": {
      "text/html": [
       "<div>\n",
       "<style scoped>\n",
       "    .dataframe tbody tr th:only-of-type {\n",
       "        vertical-align: middle;\n",
       "    }\n",
       "\n",
       "    .dataframe tbody tr th {\n",
       "        vertical-align: top;\n",
       "    }\n",
       "\n",
       "    .dataframe thead th {\n",
       "        text-align: right;\n",
       "    }\n",
       "</style>\n",
       "<table border=\"1\" class=\"dataframe\">\n",
       "  <thead>\n",
       "    <tr style=\"text-align: right;\">\n",
       "      <th></th>\n",
       "      <th>bookID</th>\n",
       "      <th>title</th>\n",
       "      <th>authors</th>\n",
       "      <th>average_rating</th>\n",
       "      <th>isbn13</th>\n",
       "      <th>language_code</th>\n",
       "      <th># num_pages</th>\n",
       "      <th>ratings_count</th>\n",
       "      <th>text_reviews_count</th>\n",
       "      <th>thumbnail</th>\n",
       "    </tr>\n",
       "    <tr>\n",
       "      <th>isbn</th>\n",
       "      <th></th>\n",
       "      <th></th>\n",
       "      <th></th>\n",
       "      <th></th>\n",
       "      <th></th>\n",
       "      <th></th>\n",
       "      <th></th>\n",
       "      <th></th>\n",
       "      <th></th>\n",
       "      <th></th>\n",
       "    </tr>\n",
       "  </thead>\n",
       "  <tbody>\n",
       "    <tr>\n",
       "      <th>0439785960</th>\n",
       "      <td>1</td>\n",
       "      <td>Harry Potter and the Half-Blood Prince (Harry ...</td>\n",
       "      <td>J.K. Rowling-Mary GrandPré</td>\n",
       "      <td>4.56</td>\n",
       "      <td>9780439785969</td>\n",
       "      <td>eng</td>\n",
       "      <td>652</td>\n",
       "      <td>1944099</td>\n",
       "      <td>26249</td>\n",
       "      <td>https://covers.openlibrary.org/b/id/14860369-S...</td>\n",
       "    </tr>\n",
       "    <tr>\n",
       "      <th>0439358078</th>\n",
       "      <td>2</td>\n",
       "      <td>Harry Potter and the Order of the Phoenix (Har...</td>\n",
       "      <td>J.K. Rowling-Mary GrandPré</td>\n",
       "      <td>4.49</td>\n",
       "      <td>9780439358071</td>\n",
       "      <td>eng</td>\n",
       "      <td>870</td>\n",
       "      <td>1996446</td>\n",
       "      <td>27613</td>\n",
       "      <td>https://covers.openlibrary.org/b/id/14656833-S...</td>\n",
       "    </tr>\n",
       "    <tr>\n",
       "      <th>0439554934</th>\n",
       "      <td>3</td>\n",
       "      <td>Harry Potter and the Sorcerer's Stone (Harry P...</td>\n",
       "      <td>J.K. Rowling-Mary GrandPré</td>\n",
       "      <td>4.47</td>\n",
       "      <td>9780439554930</td>\n",
       "      <td>eng</td>\n",
       "      <td>320</td>\n",
       "      <td>5629932</td>\n",
       "      <td>70390</td>\n",
       "      <td>https://covers.openlibrary.org/b/id/7572543-S.jpg</td>\n",
       "    </tr>\n",
       "    <tr>\n",
       "      <th>0439554896</th>\n",
       "      <td>4</td>\n",
       "      <td>Harry Potter and the Chamber of Secrets (Harry...</td>\n",
       "      <td>J.K. Rowling</td>\n",
       "      <td>4.41</td>\n",
       "      <td>9780439554893</td>\n",
       "      <td>eng</td>\n",
       "      <td>352</td>\n",
       "      <td>6267</td>\n",
       "      <td>272</td>\n",
       "      <td>https://covers.openlibrary.org/b/id/10301720-S...</td>\n",
       "    </tr>\n",
       "    <tr>\n",
       "      <th>043965548X</th>\n",
       "      <td>5</td>\n",
       "      <td>Harry Potter and the Prisoner of Azkaban (Harr...</td>\n",
       "      <td>J.K. Rowling-Mary GrandPré</td>\n",
       "      <td>4.55</td>\n",
       "      <td>9780439655484</td>\n",
       "      <td>eng</td>\n",
       "      <td>435</td>\n",
       "      <td>2149872</td>\n",
       "      <td>33964</td>\n",
       "      <td>https://covers.openlibrary.org/b/id/8778528-S.jpg</td>\n",
       "    </tr>\n",
       "    <tr>\n",
       "      <th>...</th>\n",
       "      <td>...</td>\n",
       "      <td>...</td>\n",
       "      <td>...</td>\n",
       "      <td>...</td>\n",
       "      <td>...</td>\n",
       "      <td>...</td>\n",
       "      <td>...</td>\n",
       "      <td>...</td>\n",
       "      <td>...</td>\n",
       "      <td>...</td>\n",
       "    </tr>\n",
       "    <tr>\n",
       "      <th>0451528611</th>\n",
       "      <td>152</td>\n",
       "      <td>Anna Karenina</td>\n",
       "      <td>Leo Tolstoy-David Magarshack-Priscilla Meyer</td>\n",
       "      <td>4.04</td>\n",
       "      <td>9780451528612</td>\n",
       "      <td>eng</td>\n",
       "      <td>960</td>\n",
       "      <td>108970</td>\n",
       "      <td>5694</td>\n",
       "      <td>https://covers.openlibrary.org/b/id/295745-S.jpg</td>\n",
       "    </tr>\n",
       "    <tr>\n",
       "      <th>0140449175</th>\n",
       "      <td>153</td>\n",
       "      <td>Anna Karenina</td>\n",
       "      <td>Leo Tolstoy-Richard Pevear-Larissa Volokhonsky...</td>\n",
       "      <td>4.04</td>\n",
       "      <td>9780140449174</td>\n",
       "      <td>eng</td>\n",
       "      <td>837</td>\n",
       "      <td>2835</td>\n",
       "      <td>300</td>\n",
       "      <td>not found</td>\n",
       "    </tr>\n",
       "    <tr>\n",
       "      <th>0822001837</th>\n",
       "      <td>154</td>\n",
       "      <td>CliffsNotes on Tolstoy's Anna Karenina</td>\n",
       "      <td>Marianne Sturman-Leo Tolstoy</td>\n",
       "      <td>3.89</td>\n",
       "      <td>9780822001836</td>\n",
       "      <td>eng</td>\n",
       "      <td>80</td>\n",
       "      <td>15</td>\n",
       "      <td>3</td>\n",
       "      <td>not found</td>\n",
       "    </tr>\n",
       "    <tr>\n",
       "      <th>1593080271</th>\n",
       "      <td>155</td>\n",
       "      <td>Anna Karenina</td>\n",
       "      <td>Leo Tolstoy-Amy Mandelker-Constance Garnett</td>\n",
       "      <td>4.04</td>\n",
       "      <td>9781593080273</td>\n",
       "      <td>eng</td>\n",
       "      <td>803</td>\n",
       "      <td>9362</td>\n",
       "      <td>710</td>\n",
       "      <td>https://covers.openlibrary.org/b/id/869620-S.jpg</td>\n",
       "    </tr>\n",
       "    <tr>\n",
       "      <th>0486437965</th>\n",
       "      <td>156</td>\n",
       "      <td>Anna Karenina</td>\n",
       "      <td>Leo Tolstoy-Louise Maude-Aylmer Maude</td>\n",
       "      <td>4.04</td>\n",
       "      <td>9780486437965</td>\n",
       "      <td>eng</td>\n",
       "      <td>752</td>\n",
       "      <td>460</td>\n",
       "      <td>71</td>\n",
       "      <td>https://covers.openlibrary.org/b/id/314295-S.jpg</td>\n",
       "    </tr>\n",
       "  </tbody>\n",
       "</table>\n",
       "<p>100 rows × 10 columns</p>\n",
       "</div>"
      ],
      "text/plain": [
       "            bookID                                              title  \\\n",
       "isbn                                                                    \n",
       "0439785960       1  Harry Potter and the Half-Blood Prince (Harry ...   \n",
       "0439358078       2  Harry Potter and the Order of the Phoenix (Har...   \n",
       "0439554934       3  Harry Potter and the Sorcerer's Stone (Harry P...   \n",
       "0439554896       4  Harry Potter and the Chamber of Secrets (Harry...   \n",
       "043965548X       5  Harry Potter and the Prisoner of Azkaban (Harr...   \n",
       "...            ...                                                ...   \n",
       "0451528611     152                                      Anna Karenina   \n",
       "0140449175     153                                      Anna Karenina   \n",
       "0822001837     154             CliffsNotes on Tolstoy's Anna Karenina   \n",
       "1593080271     155                                      Anna Karenina   \n",
       "0486437965     156                                      Anna Karenina   \n",
       "\n",
       "                                                      authors  average_rating  \\\n",
       "isbn                                                                            \n",
       "0439785960                         J.K. Rowling-Mary GrandPré            4.56   \n",
       "0439358078                         J.K. Rowling-Mary GrandPré            4.49   \n",
       "0439554934                         J.K. Rowling-Mary GrandPré            4.47   \n",
       "0439554896                                       J.K. Rowling            4.41   \n",
       "043965548X                         J.K. Rowling-Mary GrandPré            4.55   \n",
       "...                                                       ...             ...   \n",
       "0451528611       Leo Tolstoy-David Magarshack-Priscilla Meyer            4.04   \n",
       "0140449175  Leo Tolstoy-Richard Pevear-Larissa Volokhonsky...            4.04   \n",
       "0822001837                       Marianne Sturman-Leo Tolstoy            3.89   \n",
       "1593080271        Leo Tolstoy-Amy Mandelker-Constance Garnett            4.04   \n",
       "0486437965              Leo Tolstoy-Louise Maude-Aylmer Maude            4.04   \n",
       "\n",
       "                   isbn13 language_code  # num_pages  ratings_count  \\\n",
       "isbn                                                                  \n",
       "0439785960  9780439785969           eng          652        1944099   \n",
       "0439358078  9780439358071           eng          870        1996446   \n",
       "0439554934  9780439554930           eng          320        5629932   \n",
       "0439554896  9780439554893           eng          352           6267   \n",
       "043965548X  9780439655484           eng          435        2149872   \n",
       "...                   ...           ...          ...            ...   \n",
       "0451528611  9780451528612           eng          960         108970   \n",
       "0140449175  9780140449174           eng          837           2835   \n",
       "0822001837  9780822001836           eng           80             15   \n",
       "1593080271  9781593080273           eng          803           9362   \n",
       "0486437965  9780486437965           eng          752            460   \n",
       "\n",
       "            text_reviews_count  \\\n",
       "isbn                             \n",
       "0439785960               26249   \n",
       "0439358078               27613   \n",
       "0439554934               70390   \n",
       "0439554896                 272   \n",
       "043965548X               33964   \n",
       "...                        ...   \n",
       "0451528611                5694   \n",
       "0140449175                 300   \n",
       "0822001837                   3   \n",
       "1593080271                 710   \n",
       "0486437965                  71   \n",
       "\n",
       "                                                    thumbnail  \n",
       "isbn                                                           \n",
       "0439785960  https://covers.openlibrary.org/b/id/14860369-S...  \n",
       "0439358078  https://covers.openlibrary.org/b/id/14656833-S...  \n",
       "0439554934  https://covers.openlibrary.org/b/id/7572543-S.jpg  \n",
       "0439554896  https://covers.openlibrary.org/b/id/10301720-S...  \n",
       "043965548X  https://covers.openlibrary.org/b/id/8778528-S.jpg  \n",
       "...                                                       ...  \n",
       "0451528611   https://covers.openlibrary.org/b/id/295745-S.jpg  \n",
       "0140449175                                          not found  \n",
       "0822001837                                          not found  \n",
       "1593080271   https://covers.openlibrary.org/b/id/869620-S.jpg  \n",
       "0486437965   https://covers.openlibrary.org/b/id/314295-S.jpg  \n",
       "\n",
       "[100 rows x 10 columns]"
      ]
     },
     "execution_count": 55,
     "metadata": {},
     "output_type": "execute_result"
    }
   ],
   "source": [
    "df"
   ]
  },
  {
   "cell_type": "code",
   "execution_count": null,
   "metadata": {},
   "outputs": [],
   "source": []
  }
 ],
 "metadata": {
  "kernelspec": {
   "display_name": "Python 3 (ipykernel)",
   "language": "python",
   "name": "python3"
  },
  "language_info": {
   "codemirror_mode": {
    "name": "ipython",
    "version": 3
   },
   "file_extension": ".py",
   "mimetype": "text/x-python",
   "name": "python",
   "nbconvert_exporter": "python",
   "pygments_lexer": "ipython3",
   "version": "3.12.9"
  }
 },
 "nbformat": 4,
 "nbformat_minor": 4
}
