{
 "cells": [
  {
   "cell_type": "markdown",
   "metadata": {},
   "source": [
    "# Reboot - Data Collection\n",
    "\n",
    "Let's practise calling an API and navigating a JSON response!\n",
    "\n",
    "---\n",
    "\n",
    "## 1. Simple API call\n",
    "\n",
    "There's an API for pretty much everything. Let's start with a super simple one: the [Breaking Bad quotes API](https://github.com/shevabam/breaking-bad-quotes) (alternatively, use the [Le Wagon Breaking Bad Quotes API](https://breaking-bad.lewagon.com/v1/quotes)).\n",
    "\n",
    "For your convenience, we've included the simple syntax to do an HTTP request in Python and convert the response to a Python object as boilerplate code.\n",
    "\n",
    "The goal here is to get a single, random Breaking Bad quote and print it out to the terminal. \n",
    "\n",
    "Go the [doc](https://github.com/shevabam/breaking-bad-quotes) to find out which URL you need to use. Make sure to carefully check out the data types you're getting back from the API and extract the string you need."
   ]
  },
  {
   "cell_type": "code",
   "execution_count": 1,
   "metadata": {},
   "outputs": [],
   "source": [
    "import requests\n",
    "\n",
    "url = \"https://api.breakingbadquotes.xyz/v1/quotes\"\n",
    "response = requests.get(url).json()"
   ]
  },
  {
   "cell_type": "code",
   "execution_count": 4,
   "metadata": {},
   "outputs": [
    {
     "data": {
      "text/plain": [
       "[{'quote': 'Sometimes the forbidden fruit tastes the sweetest.',\n",
       "  'author': 'Hank Schrader'}]"
      ]
     },
     "execution_count": 4,
     "metadata": {},
     "output_type": "execute_result"
    }
   ],
   "source": [
    "response"
   ]
  },
  {
   "cell_type": "code",
   "execution_count": null,
   "metadata": {},
   "outputs": [
    {
     "name": "stdout",
     "output_type": "stream",
     "text": [
      "Hank Schrader said 'Sometimes the forbidden fruit tastes the sweetest.'\n"
     ]
    }
   ],
   "source": [
    "# Print the quote + its author in a nice way.\n",
    "author = response[0]['author']\n",
    "quote = response[0]['quote']\n",
    "print(f\"{author} said '{quote}'\")"
   ]
  },
  {
   "cell_type": "code",
   "execution_count": 12,
   "metadata": {},
   "outputs": [
    {
     "data": {
      "text/plain": [
       "{'quote': \"Alright, I've got the talking pillow now... Okay?\",\n",
       " 'author': 'Walter White'}"
      ]
     },
     "execution_count": 12,
     "metadata": {},
     "output_type": "execute_result"
    }
   ],
   "source": [
    "import requests\n",
    "\n",
    "url = 'https://breaking-bad.lewagon.com/v1/quotes'  # alternative API\n",
    "\n",
    "response = requests.get(url).json()\n",
    "response"
   ]
  },
  {
   "cell_type": "code",
   "execution_count": null,
   "metadata": {},
   "outputs": [
    {
     "name": "stdout",
     "output_type": "stream",
     "text": [
      "'Alright, I've got the talking pillow now... Okay?' \n",
      "Walter White\n"
     ]
    }
   ],
   "source": [
    "# Print the quote + its author in a nice way.\n",
    "response\n",
    "print(f\"'{response['quote']}' \\n{response['author']}\")"
   ]
  },
  {
   "cell_type": "markdown",
   "metadata": {},
   "source": [
    "---\n",
    "## 2. Looping over API results\n",
    "\n",
    "Often APIs will serve a list of results that we need to loop over and manipulate. For this next example, we will use the [Star Wars API](https://swapi.dev).\n",
    "\n",
    "First, go to the [documentation](https://swapi.dev/documentation) to find out which URL you're going to need to retrieve"
   ]
  },
  {
   "cell_type": "code",
   "execution_count": 14,
   "metadata": {
    "tags": [
     "challengify"
    ]
   },
   "outputs": [
    {
     "data": {
      "text/plain": [
       "'https://swapi.dev/api/people/'"
      ]
     },
     "execution_count": 14,
     "metadata": {},
     "output_type": "execute_result"
    }
   ],
   "source": [
    "BASE_URI = \"https://swapi.dev/api/\"\n",
    "path = \"people/\"\n",
    "url = BASE_URI + path\n",
    "url"
   ]
  },
  {
   "cell_type": "markdown",
   "metadata": {},
   "source": [
    "Use `requests` to retrieve the people from the API. Store this in a `response` variable. What's the type of `response`?"
   ]
  },
  {
   "cell_type": "code",
   "execution_count": 18,
   "metadata": {
    "tags": [
     "challengify"
    ]
   },
   "outputs": [],
   "source": [
    "response = requests.get(url).json()"
   ]
  },
  {
   "cell_type": "code",
   "execution_count": 24,
   "metadata": {},
   "outputs": [
    {
     "data": {
      "text/plain": [
       "{'count': 82,\n",
       " 'next': 'https://swapi.dev/api/people/?page=2',\n",
       " 'previous': None,\n",
       " 'results': [{'name': 'Luke Skywalker',\n",
       "   'height': '172',\n",
       "   'mass': '77',\n",
       "   'hair_color': 'blond',\n",
       "   'skin_color': 'fair',\n",
       "   'eye_color': 'blue',\n",
       "   'birth_year': '19BBY',\n",
       "   'gender': 'male',\n",
       "   'homeworld': 'https://swapi.dev/api/planets/1/',\n",
       "   'films': ['https://swapi.dev/api/films/1/',\n",
       "    'https://swapi.dev/api/films/2/',\n",
       "    'https://swapi.dev/api/films/3/',\n",
       "    'https://swapi.dev/api/films/6/'],\n",
       "   'species': [],\n",
       "   'vehicles': ['https://swapi.dev/api/vehicles/14/',\n",
       "    'https://swapi.dev/api/vehicles/30/'],\n",
       "   'starships': ['https://swapi.dev/api/starships/12/',\n",
       "    'https://swapi.dev/api/starships/22/'],\n",
       "   'created': '2014-12-09T13:50:51.644000Z',\n",
       "   'edited': '2014-12-20T21:17:56.891000Z',\n",
       "   'url': 'https://swapi.dev/api/people/1/'},\n",
       "  {'name': 'C-3PO',\n",
       "   'height': '167',\n",
       "   'mass': '75',\n",
       "   'hair_color': 'n/a',\n",
       "   'skin_color': 'gold',\n",
       "   'eye_color': 'yellow',\n",
       "   'birth_year': '112BBY',\n",
       "   'gender': 'n/a',\n",
       "   'homeworld': 'https://swapi.dev/api/planets/1/',\n",
       "   'films': ['https://swapi.dev/api/films/1/',\n",
       "    'https://swapi.dev/api/films/2/',\n",
       "    'https://swapi.dev/api/films/3/',\n",
       "    'https://swapi.dev/api/films/4/',\n",
       "    'https://swapi.dev/api/films/5/',\n",
       "    'https://swapi.dev/api/films/6/'],\n",
       "   'species': ['https://swapi.dev/api/species/2/'],\n",
       "   'vehicles': [],\n",
       "   'starships': [],\n",
       "   'created': '2014-12-10T15:10:51.357000Z',\n",
       "   'edited': '2014-12-20T21:17:50.309000Z',\n",
       "   'url': 'https://swapi.dev/api/people/2/'},\n",
       "  {'name': 'R2-D2',\n",
       "   'height': '96',\n",
       "   'mass': '32',\n",
       "   'hair_color': 'n/a',\n",
       "   'skin_color': 'white, blue',\n",
       "   'eye_color': 'red',\n",
       "   'birth_year': '33BBY',\n",
       "   'gender': 'n/a',\n",
       "   'homeworld': 'https://swapi.dev/api/planets/8/',\n",
       "   'films': ['https://swapi.dev/api/films/1/',\n",
       "    'https://swapi.dev/api/films/2/',\n",
       "    'https://swapi.dev/api/films/3/',\n",
       "    'https://swapi.dev/api/films/4/',\n",
       "    'https://swapi.dev/api/films/5/',\n",
       "    'https://swapi.dev/api/films/6/'],\n",
       "   'species': ['https://swapi.dev/api/species/2/'],\n",
       "   'vehicles': [],\n",
       "   'starships': [],\n",
       "   'created': '2014-12-10T15:11:50.376000Z',\n",
       "   'edited': '2014-12-20T21:17:50.311000Z',\n",
       "   'url': 'https://swapi.dev/api/people/3/'},\n",
       "  {'name': 'Darth Vader',\n",
       "   'height': '202',\n",
       "   'mass': '136',\n",
       "   'hair_color': 'none',\n",
       "   'skin_color': 'white',\n",
       "   'eye_color': 'yellow',\n",
       "   'birth_year': '41.9BBY',\n",
       "   'gender': 'male',\n",
       "   'homeworld': 'https://swapi.dev/api/planets/1/',\n",
       "   'films': ['https://swapi.dev/api/films/1/',\n",
       "    'https://swapi.dev/api/films/2/',\n",
       "    'https://swapi.dev/api/films/3/',\n",
       "    'https://swapi.dev/api/films/6/'],\n",
       "   'species': [],\n",
       "   'vehicles': [],\n",
       "   'starships': ['https://swapi.dev/api/starships/13/'],\n",
       "   'created': '2014-12-10T15:18:20.704000Z',\n",
       "   'edited': '2014-12-20T21:17:50.313000Z',\n",
       "   'url': 'https://swapi.dev/api/people/4/'},\n",
       "  {'name': 'Leia Organa',\n",
       "   'height': '150',\n",
       "   'mass': '49',\n",
       "   'hair_color': 'brown',\n",
       "   'skin_color': 'light',\n",
       "   'eye_color': 'brown',\n",
       "   'birth_year': '19BBY',\n",
       "   'gender': 'female',\n",
       "   'homeworld': 'https://swapi.dev/api/planets/2/',\n",
       "   'films': ['https://swapi.dev/api/films/1/',\n",
       "    'https://swapi.dev/api/films/2/',\n",
       "    'https://swapi.dev/api/films/3/',\n",
       "    'https://swapi.dev/api/films/6/'],\n",
       "   'species': [],\n",
       "   'vehicles': ['https://swapi.dev/api/vehicles/30/'],\n",
       "   'starships': [],\n",
       "   'created': '2014-12-10T15:20:09.791000Z',\n",
       "   'edited': '2014-12-20T21:17:50.315000Z',\n",
       "   'url': 'https://swapi.dev/api/people/5/'},\n",
       "  {'name': 'Owen Lars',\n",
       "   'height': '178',\n",
       "   'mass': '120',\n",
       "   'hair_color': 'brown, grey',\n",
       "   'skin_color': 'light',\n",
       "   'eye_color': 'blue',\n",
       "   'birth_year': '52BBY',\n",
       "   'gender': 'male',\n",
       "   'homeworld': 'https://swapi.dev/api/planets/1/',\n",
       "   'films': ['https://swapi.dev/api/films/1/',\n",
       "    'https://swapi.dev/api/films/5/',\n",
       "    'https://swapi.dev/api/films/6/'],\n",
       "   'species': [],\n",
       "   'vehicles': [],\n",
       "   'starships': [],\n",
       "   'created': '2014-12-10T15:52:14.024000Z',\n",
       "   'edited': '2014-12-20T21:17:50.317000Z',\n",
       "   'url': 'https://swapi.dev/api/people/6/'},\n",
       "  {'name': 'Beru Whitesun lars',\n",
       "   'height': '165',\n",
       "   'mass': '75',\n",
       "   'hair_color': 'brown',\n",
       "   'skin_color': 'light',\n",
       "   'eye_color': 'blue',\n",
       "   'birth_year': '47BBY',\n",
       "   'gender': 'female',\n",
       "   'homeworld': 'https://swapi.dev/api/planets/1/',\n",
       "   'films': ['https://swapi.dev/api/films/1/',\n",
       "    'https://swapi.dev/api/films/5/',\n",
       "    'https://swapi.dev/api/films/6/'],\n",
       "   'species': [],\n",
       "   'vehicles': [],\n",
       "   'starships': [],\n",
       "   'created': '2014-12-10T15:53:41.121000Z',\n",
       "   'edited': '2014-12-20T21:17:50.319000Z',\n",
       "   'url': 'https://swapi.dev/api/people/7/'},\n",
       "  {'name': 'R5-D4',\n",
       "   'height': '97',\n",
       "   'mass': '32',\n",
       "   'hair_color': 'n/a',\n",
       "   'skin_color': 'white, red',\n",
       "   'eye_color': 'red',\n",
       "   'birth_year': 'unknown',\n",
       "   'gender': 'n/a',\n",
       "   'homeworld': 'https://swapi.dev/api/planets/1/',\n",
       "   'films': ['https://swapi.dev/api/films/1/'],\n",
       "   'species': ['https://swapi.dev/api/species/2/'],\n",
       "   'vehicles': [],\n",
       "   'starships': [],\n",
       "   'created': '2014-12-10T15:57:50.959000Z',\n",
       "   'edited': '2014-12-20T21:17:50.321000Z',\n",
       "   'url': 'https://swapi.dev/api/people/8/'},\n",
       "  {'name': 'Biggs Darklighter',\n",
       "   'height': '183',\n",
       "   'mass': '84',\n",
       "   'hair_color': 'black',\n",
       "   'skin_color': 'light',\n",
       "   'eye_color': 'brown',\n",
       "   'birth_year': '24BBY',\n",
       "   'gender': 'male',\n",
       "   'homeworld': 'https://swapi.dev/api/planets/1/',\n",
       "   'films': ['https://swapi.dev/api/films/1/'],\n",
       "   'species': [],\n",
       "   'vehicles': [],\n",
       "   'starships': ['https://swapi.dev/api/starships/12/'],\n",
       "   'created': '2014-12-10T15:59:50.509000Z',\n",
       "   'edited': '2014-12-20T21:17:50.323000Z',\n",
       "   'url': 'https://swapi.dev/api/people/9/'},\n",
       "  {'name': 'Obi-Wan Kenobi',\n",
       "   'height': '182',\n",
       "   'mass': '77',\n",
       "   'hair_color': 'auburn, white',\n",
       "   'skin_color': 'fair',\n",
       "   'eye_color': 'blue-gray',\n",
       "   'birth_year': '57BBY',\n",
       "   'gender': 'male',\n",
       "   'homeworld': 'https://swapi.dev/api/planets/20/',\n",
       "   'films': ['https://swapi.dev/api/films/1/',\n",
       "    'https://swapi.dev/api/films/2/',\n",
       "    'https://swapi.dev/api/films/3/',\n",
       "    'https://swapi.dev/api/films/4/',\n",
       "    'https://swapi.dev/api/films/5/',\n",
       "    'https://swapi.dev/api/films/6/'],\n",
       "   'species': [],\n",
       "   'vehicles': ['https://swapi.dev/api/vehicles/38/'],\n",
       "   'starships': ['https://swapi.dev/api/starships/48/',\n",
       "    'https://swapi.dev/api/starships/59/',\n",
       "    'https://swapi.dev/api/starships/64/',\n",
       "    'https://swapi.dev/api/starships/65/',\n",
       "    'https://swapi.dev/api/starships/74/'],\n",
       "   'created': '2014-12-10T16:16:29.192000Z',\n",
       "   'edited': '2014-12-20T21:17:50.325000Z',\n",
       "   'url': 'https://swapi.dev/api/people/10/'}]}"
      ]
     },
     "execution_count": 24,
     "metadata": {},
     "output_type": "execute_result"
    }
   ],
   "source": [
    "response"
   ]
  },
  {
   "cell_type": "code",
   "execution_count": 23,
   "metadata": {
    "tags": [
     "challengify"
    ]
   },
   "outputs": [
    {
     "data": {
      "text/plain": [
       "[{'name': 'Luke Skywalker',\n",
       "  'height': '172',\n",
       "  'mass': '77',\n",
       "  'hair_color': 'blond',\n",
       "  'skin_color': 'fair',\n",
       "  'eye_color': 'blue',\n",
       "  'birth_year': '19BBY',\n",
       "  'gender': 'male',\n",
       "  'homeworld': 'https://swapi.dev/api/planets/1/',\n",
       "  'films': ['https://swapi.dev/api/films/1/',\n",
       "   'https://swapi.dev/api/films/2/',\n",
       "   'https://swapi.dev/api/films/3/',\n",
       "   'https://swapi.dev/api/films/6/'],\n",
       "  'species': [],\n",
       "  'vehicles': ['https://swapi.dev/api/vehicles/14/',\n",
       "   'https://swapi.dev/api/vehicles/30/'],\n",
       "  'starships': ['https://swapi.dev/api/starships/12/',\n",
       "   'https://swapi.dev/api/starships/22/'],\n",
       "  'created': '2014-12-09T13:50:51.644000Z',\n",
       "  'edited': '2014-12-20T21:17:56.891000Z',\n",
       "  'url': 'https://swapi.dev/api/people/1/'},\n",
       " {'name': 'C-3PO',\n",
       "  'height': '167',\n",
       "  'mass': '75',\n",
       "  'hair_color': 'n/a',\n",
       "  'skin_color': 'gold',\n",
       "  'eye_color': 'yellow',\n",
       "  'birth_year': '112BBY',\n",
       "  'gender': 'n/a',\n",
       "  'homeworld': 'https://swapi.dev/api/planets/1/',\n",
       "  'films': ['https://swapi.dev/api/films/1/',\n",
       "   'https://swapi.dev/api/films/2/',\n",
       "   'https://swapi.dev/api/films/3/',\n",
       "   'https://swapi.dev/api/films/4/',\n",
       "   'https://swapi.dev/api/films/5/',\n",
       "   'https://swapi.dev/api/films/6/'],\n",
       "  'species': ['https://swapi.dev/api/species/2/'],\n",
       "  'vehicles': [],\n",
       "  'starships': [],\n",
       "  'created': '2014-12-10T15:10:51.357000Z',\n",
       "  'edited': '2014-12-20T21:17:50.309000Z',\n",
       "  'url': 'https://swapi.dev/api/people/2/'},\n",
       " {'name': 'R2-D2',\n",
       "  'height': '96',\n",
       "  'mass': '32',\n",
       "  'hair_color': 'n/a',\n",
       "  'skin_color': 'white, blue',\n",
       "  'eye_color': 'red',\n",
       "  'birth_year': '33BBY',\n",
       "  'gender': 'n/a',\n",
       "  'homeworld': 'https://swapi.dev/api/planets/8/',\n",
       "  'films': ['https://swapi.dev/api/films/1/',\n",
       "   'https://swapi.dev/api/films/2/',\n",
       "   'https://swapi.dev/api/films/3/',\n",
       "   'https://swapi.dev/api/films/4/',\n",
       "   'https://swapi.dev/api/films/5/',\n",
       "   'https://swapi.dev/api/films/6/'],\n",
       "  'species': ['https://swapi.dev/api/species/2/'],\n",
       "  'vehicles': [],\n",
       "  'starships': [],\n",
       "  'created': '2014-12-10T15:11:50.376000Z',\n",
       "  'edited': '2014-12-20T21:17:50.311000Z',\n",
       "  'url': 'https://swapi.dev/api/people/3/'},\n",
       " {'name': 'Darth Vader',\n",
       "  'height': '202',\n",
       "  'mass': '136',\n",
       "  'hair_color': 'none',\n",
       "  'skin_color': 'white',\n",
       "  'eye_color': 'yellow',\n",
       "  'birth_year': '41.9BBY',\n",
       "  'gender': 'male',\n",
       "  'homeworld': 'https://swapi.dev/api/planets/1/',\n",
       "  'films': ['https://swapi.dev/api/films/1/',\n",
       "   'https://swapi.dev/api/films/2/',\n",
       "   'https://swapi.dev/api/films/3/',\n",
       "   'https://swapi.dev/api/films/6/'],\n",
       "  'species': [],\n",
       "  'vehicles': [],\n",
       "  'starships': ['https://swapi.dev/api/starships/13/'],\n",
       "  'created': '2014-12-10T15:18:20.704000Z',\n",
       "  'edited': '2014-12-20T21:17:50.313000Z',\n",
       "  'url': 'https://swapi.dev/api/people/4/'},\n",
       " {'name': 'Leia Organa',\n",
       "  'height': '150',\n",
       "  'mass': '49',\n",
       "  'hair_color': 'brown',\n",
       "  'skin_color': 'light',\n",
       "  'eye_color': 'brown',\n",
       "  'birth_year': '19BBY',\n",
       "  'gender': 'female',\n",
       "  'homeworld': 'https://swapi.dev/api/planets/2/',\n",
       "  'films': ['https://swapi.dev/api/films/1/',\n",
       "   'https://swapi.dev/api/films/2/',\n",
       "   'https://swapi.dev/api/films/3/',\n",
       "   'https://swapi.dev/api/films/6/'],\n",
       "  'species': [],\n",
       "  'vehicles': ['https://swapi.dev/api/vehicles/30/'],\n",
       "  'starships': [],\n",
       "  'created': '2014-12-10T15:20:09.791000Z',\n",
       "  'edited': '2014-12-20T21:17:50.315000Z',\n",
       "  'url': 'https://swapi.dev/api/people/5/'},\n",
       " {'name': 'Owen Lars',\n",
       "  'height': '178',\n",
       "  'mass': '120',\n",
       "  'hair_color': 'brown, grey',\n",
       "  'skin_color': 'light',\n",
       "  'eye_color': 'blue',\n",
       "  'birth_year': '52BBY',\n",
       "  'gender': 'male',\n",
       "  'homeworld': 'https://swapi.dev/api/planets/1/',\n",
       "  'films': ['https://swapi.dev/api/films/1/',\n",
       "   'https://swapi.dev/api/films/5/',\n",
       "   'https://swapi.dev/api/films/6/'],\n",
       "  'species': [],\n",
       "  'vehicles': [],\n",
       "  'starships': [],\n",
       "  'created': '2014-12-10T15:52:14.024000Z',\n",
       "  'edited': '2014-12-20T21:17:50.317000Z',\n",
       "  'url': 'https://swapi.dev/api/people/6/'},\n",
       " {'name': 'Beru Whitesun lars',\n",
       "  'height': '165',\n",
       "  'mass': '75',\n",
       "  'hair_color': 'brown',\n",
       "  'skin_color': 'light',\n",
       "  'eye_color': 'blue',\n",
       "  'birth_year': '47BBY',\n",
       "  'gender': 'female',\n",
       "  'homeworld': 'https://swapi.dev/api/planets/1/',\n",
       "  'films': ['https://swapi.dev/api/films/1/',\n",
       "   'https://swapi.dev/api/films/5/',\n",
       "   'https://swapi.dev/api/films/6/'],\n",
       "  'species': [],\n",
       "  'vehicles': [],\n",
       "  'starships': [],\n",
       "  'created': '2014-12-10T15:53:41.121000Z',\n",
       "  'edited': '2014-12-20T21:17:50.319000Z',\n",
       "  'url': 'https://swapi.dev/api/people/7/'},\n",
       " {'name': 'R5-D4',\n",
       "  'height': '97',\n",
       "  'mass': '32',\n",
       "  'hair_color': 'n/a',\n",
       "  'skin_color': 'white, red',\n",
       "  'eye_color': 'red',\n",
       "  'birth_year': 'unknown',\n",
       "  'gender': 'n/a',\n",
       "  'homeworld': 'https://swapi.dev/api/planets/1/',\n",
       "  'films': ['https://swapi.dev/api/films/1/'],\n",
       "  'species': ['https://swapi.dev/api/species/2/'],\n",
       "  'vehicles': [],\n",
       "  'starships': [],\n",
       "  'created': '2014-12-10T15:57:50.959000Z',\n",
       "  'edited': '2014-12-20T21:17:50.321000Z',\n",
       "  'url': 'https://swapi.dev/api/people/8/'},\n",
       " {'name': 'Biggs Darklighter',\n",
       "  'height': '183',\n",
       "  'mass': '84',\n",
       "  'hair_color': 'black',\n",
       "  'skin_color': 'light',\n",
       "  'eye_color': 'brown',\n",
       "  'birth_year': '24BBY',\n",
       "  'gender': 'male',\n",
       "  'homeworld': 'https://swapi.dev/api/planets/1/',\n",
       "  'films': ['https://swapi.dev/api/films/1/'],\n",
       "  'species': [],\n",
       "  'vehicles': [],\n",
       "  'starships': ['https://swapi.dev/api/starships/12/'],\n",
       "  'created': '2014-12-10T15:59:50.509000Z',\n",
       "  'edited': '2014-12-20T21:17:50.323000Z',\n",
       "  'url': 'https://swapi.dev/api/people/9/'},\n",
       " {'name': 'Obi-Wan Kenobi',\n",
       "  'height': '182',\n",
       "  'mass': '77',\n",
       "  'hair_color': 'auburn, white',\n",
       "  'skin_color': 'fair',\n",
       "  'eye_color': 'blue-gray',\n",
       "  'birth_year': '57BBY',\n",
       "  'gender': 'male',\n",
       "  'homeworld': 'https://swapi.dev/api/planets/20/',\n",
       "  'films': ['https://swapi.dev/api/films/1/',\n",
       "   'https://swapi.dev/api/films/2/',\n",
       "   'https://swapi.dev/api/films/3/',\n",
       "   'https://swapi.dev/api/films/4/',\n",
       "   'https://swapi.dev/api/films/5/',\n",
       "   'https://swapi.dev/api/films/6/'],\n",
       "  'species': [],\n",
       "  'vehicles': ['https://swapi.dev/api/vehicles/38/'],\n",
       "  'starships': ['https://swapi.dev/api/starships/48/',\n",
       "   'https://swapi.dev/api/starships/59/',\n",
       "   'https://swapi.dev/api/starships/64/',\n",
       "   'https://swapi.dev/api/starships/65/',\n",
       "   'https://swapi.dev/api/starships/74/'],\n",
       "  'created': '2014-12-10T16:16:29.192000Z',\n",
       "  'edited': '2014-12-20T21:17:50.325000Z',\n",
       "  'url': 'https://swapi.dev/api/people/10/'}]"
      ]
     },
     "execution_count": 23,
     "metadata": {},
     "output_type": "execute_result"
    }
   ],
   "source": [
    "response['results']"
   ]
  },
  {
   "cell_type": "markdown",
   "metadata": {
    "slideshow": {
     "slide_type": "slide"
    }
   },
   "source": [
    "Loop over the **5 first people** and print a sentece for each following this template:\n",
    "\n",
    "- `Luke Skywalker has blue eyes`\n",
    "- `C-3PO has yellow eyes`\n",
    "- etc."
   ]
  },
  {
   "cell_type": "code",
   "execution_count": 27,
   "metadata": {
    "tags": [
     "challengify"
    ]
   },
   "outputs": [
    {
     "name": "stdout",
     "output_type": "stream",
     "text": [
      "Luke Skywalker has blue eyes\n",
      "C-3PO has yellow eyes\n",
      "R2-D2 has red eyes\n",
      "Darth Vader has yellow eyes\n",
      "Leia Organa has brown eyes\n"
     ]
    }
   ],
   "source": [
    "for i in range(5):\n",
    "    name = response['results'][i]['name']\n",
    "    eyes = response['results'][i]['eye_color']\n",
    "    print(name + \" has \"+ eyes + ' eyes')\n"
   ]
  },
  {
   "cell_type": "code",
   "execution_count": 32,
   "metadata": {},
   "outputs": [
    {
     "name": "stdout",
     "output_type": "stream",
     "text": [
      "Luke Skywalker has blue eyes\n",
      "C-3PO has yellow eyes\n",
      "R2-D2 has red eyes\n",
      "Darth Vader has yellow eyes\n",
      "Leia Organa has brown eyes\n"
     ]
    }
   ],
   "source": [
    "for character in response['results'][:5]:\n",
    "    print(f\"{character['name']} has {character['eye_color']} eyes\")"
   ]
  },
  {
   "cell_type": "markdown",
   "metadata": {},
   "source": [
    "---\n",
    "## 3. Geocoding\n",
    "\n",
    "A geocoding service is a tool to convert addresses to geo-coordinates and vice versa. We use them every time we fire up our GPS apps and look for a destination.\n",
    "\n",
    "For this exercise, we will use the [Nominatim API](https://nominatim.openstreetmap.org/)\n",
    "\n",
    "First, get familiar with the documentation, [which you will find here](https://nominatim.org/release-docs/latest/api/Overview/). Take a couple of minutes to read through and become familiar with it. In this exercise, we will need to find a set of geo-coordinates for a given address, and find an address from a set of geo-coordinates."
   ]
  },
  {
   "cell_type": "markdown",
   "metadata": {},
   "source": [
    "Use the API to find the latitude and longitude for this address: `10 Downing St, Westminster, London SW1A 2AA, United Kingdom`."
   ]
  },
  {
   "cell_type": "markdown",
   "metadata": {},
   "source": [
    "💡 Getting a 403 Forbidden error? The Nominatim API is free to use, but doesn't accept the default headers that most http packages use. So you have to provide your own headers when making the request. Giving a name for your app in `User-Agent` should be enough."
   ]
  },
  {
   "cell_type": "code",
   "execution_count": 36,
   "metadata": {
    "tags": [
     "challengify"
    ]
   },
   "outputs": [],
   "source": [
    "url = \"https://nominatim.openstreetmap.org/search\"\n",
    "params = {\"q\": \"10 Downing St, Westminster, London SW1A 2AA, United Kingdom\",\n",
    "         \"format\": \"json\"}\n",
    "headers = {\"User-Agent\": \"test_app\"}\n",
    "\n",
    "response = requests.get(url, params, headers= headers).json()"
   ]
  },
  {
   "cell_type": "code",
   "execution_count": 39,
   "metadata": {},
   "outputs": [
    {
     "data": {
      "text/plain": [
       "('51.5034927', '-0.12770540128798905')"
      ]
     },
     "execution_count": 39,
     "metadata": {},
     "output_type": "execute_result"
    }
   ],
   "source": [
    "response[0]['lat'], response[0]['lon']"
   ]
  },
  {
   "cell_type": "markdown",
   "metadata": {},
   "source": [
    "Try with another address of your choice!"
   ]
  },
  {
   "cell_type": "code",
   "execution_count": 40,
   "metadata": {
    "tags": [
     "challengify"
    ]
   },
   "outputs": [],
   "source": [
    "def retrieve_lat_lon(address):\n",
    "    url = \"https://nominatim.openstreetmap.org/search\"\n",
    "    params = {\"q\": address,\n",
    "             \"format\": \"json\"}\n",
    "    headers = {\"User-Agent\": \"test_app\"}\n",
    "\n",
    "    response = requests.get(url, params, headers= headers).json()\n",
    "    lat = response[0]['lat']\n",
    "    lon = response[0]['lon']\n",
    "    return lat, lon"
   ]
  },
  {
   "cell_type": "code",
   "execution_count": 41,
   "metadata": {},
   "outputs": [
    {
     "data": {
      "text/plain": [
       "('48.877439134016704', '2.344688931271646')"
      ]
     },
     "execution_count": 41,
     "metadata": {},
     "output_type": "execute_result"
    }
   ],
   "source": [
    "retrieve_lat_lon(\"61 rue de Rochechouart 75009 Paris\")"
   ]
  },
  {
   "cell_type": "code",
   "execution_count": 42,
   "metadata": {},
   "outputs": [
    {
     "data": {
      "text/plain": [
       "('44.738283499999994', '-63.30577100000001')"
      ]
     },
     "execution_count": 42,
     "metadata": {},
     "output_type": "execute_result"
    }
   ],
   "source": [
    "retrieve_lat_lon(\"2 this street canada\")"
   ]
  },
  {
   "cell_type": "markdown",
   "metadata": {},
   "source": [
    "---\n",
    "## 4. Reverse Geocoding\n",
    "\n",
    "Find the address belonging to this set of geo-coordinates: `{'lat': 38.8976633, 'lng': -77.036650 }`.\n",
    "Print the sentence `I would like to visit X`, replacing X with the address you found."
   ]
  },
  {
   "cell_type": "code",
   "execution_count": null,
   "metadata": {
    "tags": [
     "challengify"
    ]
   },
   "outputs": [],
   "source": [
    "def reverse_geo(lat, lon):\n",
    "    url = \"https://nominatim.openstreetmap.org/reverse\"\n",
    "    params = {\"lat\": lat,\n",
    "             \"lon\": lon,\n",
    "             \"format\": \"json\"}\n",
    "    headers = {\"User-Agent\": \"testing2\"}\n",
    "\n",
    "    response = requests.get(url,\n",
    "                            params = params,\n",
    "                            headers = headers).json()\n",
    "\n",
    "    return f\"I would like to visit {response['name']}\""
   ]
  },
  {
   "cell_type": "code",
   "execution_count": 54,
   "metadata": {},
   "outputs": [
    {
     "data": {
      "text/plain": [
       "'I would like to visit MacDonand Fencing'"
      ]
     },
     "execution_count": 54,
     "metadata": {},
     "output_type": "execute_result"
    }
   ],
   "source": [
    "reverse_geo('44.738283499999994', '-63.30577100000001')"
   ]
  },
  {
   "cell_type": "code",
   "execution_count": 55,
   "metadata": {},
   "outputs": [
    {
     "data": {
      "text/plain": [
       "'I would like to visit White House'"
      ]
     },
     "execution_count": 55,
     "metadata": {},
     "output_type": "execute_result"
    }
   ],
   "source": [
    "reverse_geo(38.8976633,-77.036650)"
   ]
  }
 ],
 "metadata": {
  "kernelspec": {
   "display_name": "lewagon3.12",
   "language": "python",
   "name": "python3"
  },
  "language_info": {
   "codemirror_mode": {
    "name": "ipython",
    "version": 3
   },
   "file_extension": ".py",
   "mimetype": "text/x-python",
   "name": "python",
   "nbconvert_exporter": "python",
   "pygments_lexer": "ipython3",
   "version": "3.12.9"
  }
 },
 "nbformat": 4,
 "nbformat_minor": 4
}
